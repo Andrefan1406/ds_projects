{
 "cells": [
  {
   "cell_type": "code",
   "execution_count": 1,
   "id": "3d21dd63",
   "metadata": {},
   "outputs": [],
   "source": [
    "import cv2\n",
    "import numpy as np"
   ]
  },
  {
   "cell_type": "code",
   "execution_count": 12,
   "id": "0e4c5b2e",
   "metadata": {},
   "outputs": [],
   "source": [
    "img = cv2.imread('img2.jpg')"
   ]
  },
  {
   "cell_type": "code",
   "execution_count": 13,
   "id": "8a50c684",
   "metadata": {},
   "outputs": [],
   "source": [
    "gray = cv2.cvtColor(img, cv2.COLOR_BGR2GRAY)\n",
    "gray = cv2.medianBlur(gray, 5)"
   ]
  },
  {
   "cell_type": "code",
   "execution_count": 17,
   "id": "70439574",
   "metadata": {},
   "outputs": [],
   "source": [
    "# Поиск кругов\n",
    "circles = cv2.HoughCircles(gray, cv2.HOUGH_GRADIENT, dp=1.2, minDist=20,\n",
    "                           param1=50, param2=30, minRadius=5, maxRadius=10)"
   ]
  },
  {
   "cell_type": "code",
   "execution_count": 18,
   "id": "6424ffba",
   "metadata": {},
   "outputs": [],
   "source": [
    "# Обводим круги\n",
    "if circles is not None:\n",
    "    circles = np.uint16(np.around(circles))\n",
    "    for (x, y, r) in circles[0, :]:\n",
    "        cv2.circle(img, (x, y), r, (0, 255, 0), 2)"
   ]
  },
  {
   "cell_type": "code",
   "execution_count": 19,
   "id": "2001da67",
   "metadata": {},
   "outputs": [
    {
     "name": "stdout",
     "output_type": "stream",
     "text": [
      "Найдено: 0\n"
     ]
    }
   ],
   "source": [
    "print(\"Найдено:\", len(circles[0]) if circles is not None else 0)\n",
    "cv2.imshow(\"Результат\", img)\n",
    "cv2.waitKey(0)\n",
    "cv2.destroyAllWindows()"
   ]
  },
  {
   "cell_type": "code",
   "execution_count": null,
   "id": "3521b63e",
   "metadata": {},
   "outputs": [],
   "source": []
  }
 ],
 "metadata": {
  "kernelspec": {
   "display_name": "Python 3 (ipykernel)",
   "language": "python",
   "name": "python3"
  },
  "language_info": {
   "codemirror_mode": {
    "name": "ipython",
    "version": 3
   },
   "file_extension": ".py",
   "mimetype": "text/x-python",
   "name": "python",
   "nbconvert_exporter": "python",
   "pygments_lexer": "ipython3",
   "version": "3.11.5"
  }
 },
 "nbformat": 4,
 "nbformat_minor": 5
}
